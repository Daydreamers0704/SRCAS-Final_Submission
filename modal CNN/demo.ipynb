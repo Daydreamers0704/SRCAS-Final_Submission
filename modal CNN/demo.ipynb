{
 "cells": [
  {
   "cell_type": "markdown",
   "metadata": {},
   "source": [
    "IMPORTING LIBRARIES"
   ]
  },
  {
   "cell_type": "code",
   "execution_count": 41,
   "metadata": {},
   "outputs": [],
   "source": [
    "import tensorflow as tf\n",
    "import pandas as pd\n",
    "import seaborn as sb\n",
    "import matplotlib.pyplot as plt"
   ]
  },
  {
   "cell_type": "markdown",
   "metadata": {},
   "source": [
    "DATA PREPROCESSING"
   ]
  },
  {
   "cell_type": "markdown",
   "metadata": {},
   "source": [
    "Training image processing"
   ]
  },
  {
   "cell_type": "code",
   "execution_count": 42,
   "metadata": {},
   "outputs": [
    {
     "name": "stdout",
     "output_type": "stream",
     "text": [
      "Found 3847 files belonging to 5 classes.\n"
     ]
    }
   ],
   "source": [
    "\n",
    "\n",
    "training_set = tf.keras.utils.image_dataset_from_directory(\n",
    "    'train',\n",
    "    labels=\"inferred\",\n",
    "    label_mode=\"categorical\",\n",
    "    class_names=None,\n",
    "    color_mode=\"rgb\",\n",
    "    batch_size=32,\n",
    "    image_size=(128, 128),\n",
    "    shuffle=True,\n",
    "    seed=None,\n",
    "    validation_split=None,\n",
    "    subset=None,\n",
    "    interpolation=\"bilinear\",\n",
    "    follow_links=False,\n",
    "    crop_to_aspect_ratio=False\n",
    ")\n"
   ]
  },
  {
   "cell_type": "markdown",
   "metadata": {},
   "source": [
    "Validation image processing"
   ]
  },
  {
   "cell_type": "code",
   "execution_count": 43,
   "metadata": {},
   "outputs": [
    {
     "name": "stdout",
     "output_type": "stream",
     "text": [
      "Found 3847 files belonging to 5 classes.\n"
     ]
    }
   ],
   "source": [
    "import tensorflow as tf\n",
    "\n",
    "validation_set = tf.keras.utils.image_dataset_from_directory(\n",
    "    'train',\n",
    "    labels=\"inferred\",\n",
    "    label_mode=\"categorical\",\n",
    "    class_names=None,\n",
    "    color_mode=\"rgb\",\n",
    "    batch_size=32,\n",
    "    image_size=(128, 128),\n",
    "    shuffle=True,\n",
    "    seed=None,\n",
    "    validation_split=None,\n",
    "    subset=None,\n",
    "    interpolation=\"bilinear\",\n",
    "    follow_links=False,\n",
    "    crop_to_aspect_ratio=False\n",
    ")\n"
   ]
  },
  {
   "cell_type": "code",
   "execution_count": 44,
   "metadata": {},
   "outputs": [
    {
     "data": {
      "text/plain": [
       "<_BatchDataset element_spec=(TensorSpec(shape=(None, 128, 128, 3), dtype=tf.float32, name=None), TensorSpec(shape=(None, 5), dtype=tf.float32, name=None))>"
      ]
     },
     "execution_count": 44,
     "metadata": {},
     "output_type": "execute_result"
    }
   ],
   "source": [
    "training_set"
   ]
  },
  {
   "cell_type": "code",
   "execution_count": 45,
   "metadata": {},
   "outputs": [
    {
     "name": "stdout",
     "output_type": "stream",
     "text": [
      "tf.Tensor(\n",
      "[[[[194.00279   162.00279    77.666855 ]\n",
      "   [193.40121   158.40121    76.53999  ]\n",
      "   [198.75734   166.4839     86.39406  ]\n",
      "   ...\n",
      "   [193.70087   168.30432    99.09149  ]\n",
      "   [197.01059   168.84653   100.25668  ]\n",
      "   [204.25824   176.13783   108.62474  ]]\n",
      "\n",
      "  [[190.07202   157.07593    76.068115 ]\n",
      "   [172.3553    136.3592     58.345215 ]\n",
      "   [188.7628    156.48936    76.39952  ]\n",
      "   ...\n",
      "   [166.46416   142.7351     73.82495  ]\n",
      "   [178.26073   151.5091     86.82713  ]\n",
      "   [131.12408   103.701996   45.25647  ]]\n",
      "\n",
      "  [[185.82173   153.48189    77.12251  ]\n",
      "   [175.81215   146.28871    67.37465  ]\n",
      "   [185.95467   157.11565    76.69531  ]\n",
      "   ...\n",
      "   [112.51172    87.704666   23.311676 ]\n",
      "   [113.68178    84.757416   24.230072 ]\n",
      "   [ 95.05327    69.20703    11.19046  ]]\n",
      "\n",
      "  ...\n",
      "\n",
      "  [[144.59978   132.59978    82.97478  ]\n",
      "   [113.666885  102.29082    49.469086 ]\n",
      "   [ 68.55139    56.991257    9.944275 ]\n",
      "   ...\n",
      "   [222.00104   194.00104   130.32135  ]\n",
      "   [217.48474   189.48474   124.48474  ]\n",
      "   [218.94046   187.49124   121.8228   ]]\n",
      "\n",
      "  [[130.22998   119.23204    65.21805  ]\n",
      "   [138.98286   129.98286    72.99068  ]\n",
      "   [124.65555   115.65555    57.387085 ]\n",
      "   ...\n",
      "   [215.0103    186.27876   121.64737  ]\n",
      "   [216.16698   187.00746   122.59177  ]\n",
      "   [224.41214   193.89055   129.36711  ]]\n",
      "\n",
      "  [[119.78189   110.64517    51.059235 ]\n",
      "   [ 90.18466    80.51669    27.41101  ]\n",
      "   [122.34943   110.8602     60.11458  ]\n",
      "   ...\n",
      "   [216.7861    186.7861    123.512665 ]\n",
      "   [216.36221   188.58139   125.8022   ]\n",
      "   [235.50966   207.43866   147.28769  ]]]\n",
      "\n",
      "\n",
      " [[[132.87802   163.62021    71.39365  ]\n",
      "   [133.64047   163.64047    76.73422  ]\n",
      "   [138.73828   167.73828    85.62213  ]\n",
      "   ...\n",
      "   [138.08307   170.35703    67.08984  ]\n",
      "   [138.7786    168.87234    64.877655 ]\n",
      "   [143.76562   169.28125    66.046875 ]]\n",
      "\n",
      "  [[133.23953   163.23953    74.54953  ]\n",
      "   [139.69922   168.92578    84.84735  ]\n",
      "   [149.76407   178.60938    98.412506 ]\n",
      "   ...\n",
      "   [138.49295   170.2453     68.54294  ]\n",
      "   [143.14377   172.59705    71.776886 ]\n",
      "   [144.13672   168.99734    70.53516  ]]\n",
      "\n",
      "  [[144.62656   174.06796    89.473175 ]\n",
      "   [145.73825   174.40622    94.84918  ]\n",
      "   [151.47003   179.47003   104.003876 ]\n",
      "   ...\n",
      "   [137.44662   168.8685     69.27475  ]\n",
      "   [141.57108   170.43826    74.58826  ]\n",
      "   [139.74219   163.25781    73.16016  ]]\n",
      "\n",
      "  ...\n",
      "\n",
      "  [[162.27084   173.2323     82.54584  ]\n",
      "   [105.49289   129.0007     31.360077 ]\n",
      "   [ 80.60034   115.17847    28.115967 ]\n",
      "   ...\n",
      "   [121.05994   151.2461    134.599    ]\n",
      "   [120.57654   152.68826   136.89374  ]\n",
      "   [119.08594   155.3125    137.57031  ]]\n",
      "\n",
      "  [[147.60733   164.41312    77.01608  ]\n",
      "   [104.34537   127.07538    31.68039  ]\n",
      "   [ 93.82947   114.963135   28.29831  ]\n",
      "   ...\n",
      "   [117.57886   148.78516   129.68045  ]\n",
      "   [115.61896   152.81113   133.90817  ]\n",
      "   [117.08859   153.67468   135.81265  ]]\n",
      "\n",
      "  [[158.54901   181.80682    98.77557  ]\n",
      "   [114.69656   136.37625    44.96219  ]\n",
      "   [102.80911   111.18411    24.3638   ]\n",
      "   ...\n",
      "   [111.941925  146.18411   125.76224  ]\n",
      "   [109.359375  152.22656   130.13281  ]\n",
      "   [116.22656   153.74219   135.48438  ]]]\n",
      "\n",
      "\n",
      " [[[ 84.40625    99.40625    56.554688 ]\n",
      "   [ 74.55078    88.88281    48.55078  ]\n",
      "   [ 70.08203    81.33984    44.453125 ]\n",
      "   ...\n",
      "   [139.91797   142.4336    107.0625   ]\n",
      "   [144.        153.4414    114.55469  ]\n",
      "   [127.33594   142.03906    99.26172  ]]\n",
      "\n",
      "  [[ 74.6416     88.61035    46.739014 ]\n",
      "   [ 70.010864   83.54126    43.47644  ]\n",
      "   [ 76.93555    88.19336    51.434204 ]\n",
      "   ...\n",
      "   [142.2356    144.75122   108.947754 ]\n",
      "   [144.45923   153.90063   114.326416 ]\n",
      "   [122.880615  137.90198    94.43713  ]]\n",
      "\n",
      "  [[ 58.663086   70.944336   30.677002 ]\n",
      "   [ 62.58191    74.80054    35.172974 ]\n",
      "   [ 88.15039    99.4082     62.857788 ]\n",
      "   ...\n",
      "   [146.02808   148.5437    112.032715 ]\n",
      "   [145.2107    154.6521    113.95288  ]\n",
      "   [115.59009   131.1322     86.54236  ]]\n",
      "\n",
      "  ...\n",
      "\n",
      "  [[111.16406   152.3125     96.3125   ]\n",
      "   [105.50354   148.9071     92.70532  ]\n",
      "   [116.438965  161.32104   103.63782  ]\n",
      "   ...\n",
      "   [122.87964   147.07849   118.44495  ]\n",
      "   [ 97.53943   123.2959     89.22168  ]\n",
      "   [101.90723   125.88208    89.7688   ]]\n",
      "\n",
      "  [[110.60156   151.75       95.75     ]\n",
      "   [103.81384   146.96692    90.89038  ]\n",
      "   [109.979004  154.15356    96.8241   ]\n",
      "   ...\n",
      "   [123.58716   147.43225   118.09119  ]\n",
      "   [ 94.729126  120.36035    85.16113  ]\n",
      "   [ 93.80371   116.73706    79.49878  ]]\n",
      "\n",
      "  [[110.25781   151.40625    95.40625  ]\n",
      "   [102.78125   145.78125    89.78125  ]\n",
      "   [106.03125   149.77344    92.66016  ]\n",
      "   ...\n",
      "   [124.01953   147.64844   117.875    ]\n",
      "   [ 93.01172   118.56641    82.67969  ]\n",
      "   [ 88.85156   111.14844    73.22266  ]]]\n",
      "\n",
      "\n",
      " ...\n",
      "\n",
      "\n",
      " [[[ 65.         74.         43.       ]\n",
      "   [ 65.         74.         43.       ]\n",
      "   [ 65.25       73.9375     43.1875   ]\n",
      "   ...\n",
      "   [ 84.        107.         51.       ]\n",
      "   [ 87.375     110.9375     53.8125   ]\n",
      "   [ 90.        114.         56.       ]]\n",
      "\n",
      "  [[ 64.375      73.375      43.625    ]\n",
      "   [ 65.19531    73.375      43.898438 ]\n",
      "   [ 65.44531    72.453125   43.421875 ]\n",
      "   ...\n",
      "   [ 89.859375  112.859375   57.015625 ]\n",
      "   [ 88.        111.21094    54.789062 ]\n",
      "   [ 86.25      109.625      52.875    ]]\n",
      "\n",
      "  [[ 52.75       60.625      32.75     ]\n",
      "   [ 54.0625     61.117188   33.515625 ]\n",
      "   [ 54.6875     60.664062   33.484375 ]\n",
      "   ...\n",
      "   [ 89.8125    113.140625   58.914062 ]\n",
      "   [ 86.52344   110.109375   54.976562 ]\n",
      "   [ 83.625     107.375      51.75     ]]\n",
      "\n",
      "  ...\n",
      "\n",
      "  [[118.375     100.375      33.875    ]\n",
      "   [114.60156    96.16406    31.578125 ]\n",
      "   [108.78906    89.72656    28.0625   ]\n",
      "   ...\n",
      "   [ 30.96875    36.375      17.96875  ]\n",
      "   [ 28.742188   36.070312   15.53125  ]\n",
      "   [ 27.375      36.125      14.       ]]\n",
      "\n",
      "  [[ 97.         79.375      19.625    ]\n",
      "   [ 94.21094    76.3125     18.148438 ]\n",
      "   [ 89.94531    71.5625     15.8984375]\n",
      "   ...\n",
      "   [ 31.039062   35.015625   18.015625 ]\n",
      "   [ 27.898438   33.304688   14.8984375]\n",
      "   [ 25.875      32.375      12.875    ]]\n",
      "\n",
      "  [[ 77.         60.          4.       ]\n",
      "   [ 73.9375     56.9375      2.25     ]\n",
      "   [ 69.75       52.5         0.       ]\n",
      "   ...\n",
      "   [ 33.5        37.4375     20.4375   ]\n",
      "   [ 30.75       34.75       17.75     ]\n",
      "   [ 29.         33.         16.       ]]]\n",
      "\n",
      "\n",
      " [[[ 75.56323    32.352295    3.5419922]\n",
      "   [183.96527   144.63538   105.86774  ]\n",
      "   [218.57684   199.01434   161.95966  ]\n",
      "   ...\n",
      "   [ 96.46875   119.46875    73.46875  ]\n",
      "   [ 97.69708   124.69708    71.69708  ]\n",
      "   [102.11786   130.11786    72.11786  ]]\n",
      "\n",
      "  [[ 82.7475     42.683228    6.704651 ]\n",
      "   [251.40405   216.32947   176.96228  ]\n",
      "   [254.86841   246.44287   209.38818  ]\n",
      "   ...\n",
      "   [ 93.38959   116.38959    70.38959  ]\n",
      "   [ 98.30646   125.30646    72.30646  ]\n",
      "   [110.29285   137.29285    82.29285  ]]\n",
      "\n",
      "  [[ 90.23657    52.340393   15.305786 ]\n",
      "   [244.91144   210.1748    172.44269  ]\n",
      "   [255.        238.41956   198.44733  ]\n",
      "   ...\n",
      "   [ 93.52893   116.52893    70.52893  ]\n",
      "   [100.413025  127.413025   76.413025 ]\n",
      "   [100.370544  127.370544   72.69867  ]]\n",
      "\n",
      "  ...\n",
      "\n",
      "  [[235.81915   235.9129    186.17181  ]\n",
      "   [250.71735   246.34894   199.79303  ]\n",
      "   [226.51013   210.84491   171.95428  ]\n",
      "   ...\n",
      "   [150.15509   176.15509   129.15509  ]\n",
      "   [154.6283    183.32135   130.03455  ]\n",
      "   [152.625     180.625     122.46094  ]]\n",
      "\n",
      "  [[220.53705   221.45312   170.51562  ]\n",
      "   [251.67938   244.95001   201.3172   ]\n",
      "   [255.        248.47882   207.36389  ]\n",
      "   ...\n",
      "   [151.46094   177.46094   132.46094  ]\n",
      "   [156.7951    184.7951    134.65802  ]\n",
      "   [154.08594   182.06451   124.128784 ]]\n",
      "\n",
      "  [[209.40424   213.05847   157.61517  ]\n",
      "   [208.54663   195.54663   150.54663  ]\n",
      "   [246.0871    239.55469   196.8125   ]\n",
      "   ...\n",
      "   [150.93304   177.93304   132.93304  ]\n",
      "   [152.73438   180.73438   131.73438  ]\n",
      "   [159.17902   186.17902   132.18036  ]]]\n",
      "\n",
      "\n",
      " [[[244.83594   234.07031   154.1875   ]\n",
      "   [223.04297   212.1748    131.36572  ]\n",
      "   [190.19482   179.14697    96.88965  ]\n",
      "   ...\n",
      "   [214.71338   243.4331    184.02539  ]\n",
      "   [227.24854   250.38525   195.37256  ]\n",
      "   [235.35938   254.53125   202.71094  ]]\n",
      "\n",
      "  [[206.23438   197.9375    119.28906  ]\n",
      "   [176.40234   167.53809    87.57715  ]\n",
      "   [136.99854   127.44531    45.44043  ]\n",
      "   ...\n",
      "   [216.7539    248.11768   189.00342  ]\n",
      "   [215.81494   245.74463   187.52881  ]\n",
      "   [213.50781   242.5625    184.91406  ]]\n",
      "\n",
      "  [[145.01562   140.35938    60.601562 ]\n",
      "   [130.52686   126.12695    45.31299  ]\n",
      "   [113.27539   109.131836   26.632324 ]\n",
      "   ...\n",
      "   [172.73389   204.09033   148.63477  ]\n",
      "   [175.06006   205.83643   150.59424  ]\n",
      "   [174.90625   205.32031   150.07812  ]]\n",
      "\n",
      "  ...\n",
      "\n",
      "  [[ 60.484375   79.3125     20.898438 ]\n",
      "   [ 54.796875   74.137695   15.467285 ]\n",
      "   [ 48.01465    68.07715     9.150391 ]\n",
      "   ...\n",
      "   [ 90.29053   125.29053    67.29053  ]\n",
      "   [ 85.569336  120.569336   62.569336 ]\n",
      "   [ 82.44531   117.44531    59.445312 ]]\n",
      "\n",
      "  [[ 56.867188   76.21875    19.164062 ]\n",
      "   [ 57.137207   76.48877    19.434082 ]\n",
      "   [ 57.3833     76.79736    19.621094 ]\n",
      "   ...\n",
      "   [ 89.293945  124.41553    66.456055 ]\n",
      "   [ 88.617676  123.617676   65.617676 ]\n",
      "   [ 88.32031   123.32031    65.32031  ]]\n",
      "\n",
      "  [[ 62.710938   81.71094    25.710938 ]\n",
      "   [ 63.121094   82.12109    26.121094 ]\n",
      "   [ 63.361816   82.42432    26.236816 ]\n",
      "   ...\n",
      "   [ 78.93213   114.11963    56.18213  ]\n",
      "   [ 87.24365   122.24365    64.24365  ]\n",
      "   [ 94.11719   129.11719    71.11719  ]]]], shape=(32, 128, 128, 3), dtype=float32) (32, 128, 128, 3)\n",
      "tf.Tensor(\n",
      "[[1. 0. 0. 0. 0.]\n",
      " [0. 0. 1. 0. 0.]\n",
      " [1. 0. 0. 0. 0.]\n",
      " [0. 0. 0. 0. 1.]\n",
      " [0. 1. 0. 0. 0.]\n",
      " [0. 0. 1. 0. 0.]\n",
      " [0. 1. 0. 0. 0.]\n",
      " [0. 1. 0. 0. 0.]\n",
      " [0. 1. 0. 0. 0.]\n",
      " [0. 0. 1. 0. 0.]\n",
      " [1. 0. 0. 0. 0.]\n",
      " [0. 0. 0. 0. 1.]\n",
      " [1. 0. 0. 0. 0.]\n",
      " [1. 0. 0. 0. 0.]\n",
      " [0. 1. 0. 0. 0.]\n",
      " [0. 1. 0. 0. 0.]\n",
      " [1. 0. 0. 0. 0.]\n",
      " [0. 0. 0. 1. 0.]\n",
      " [0. 0. 0. 1. 0.]\n",
      " [0. 0. 0. 0. 1.]\n",
      " [0. 0. 0. 0. 1.]\n",
      " [0. 1. 0. 0. 0.]\n",
      " [0. 0. 0. 0. 1.]\n",
      " [0. 0. 0. 0. 1.]\n",
      " [0. 0. 0. 0. 1.]\n",
      " [1. 0. 0. 0. 0.]\n",
      " [0. 1. 0. 0. 0.]\n",
      " [0. 0. 0. 0. 1.]\n",
      " [0. 1. 0. 0. 0.]\n",
      " [1. 0. 0. 0. 0.]\n",
      " [0. 1. 0. 0. 0.]\n",
      " [0. 0. 0. 0. 1.]], shape=(32, 5), dtype=float32) (32, 5)\n"
     ]
    }
   ],
   "source": [
    "for x,y in training_set:\n",
    "    print(x,x.shape)\n",
    "    print(y,y.shape)\n",
    "    break"
   ]
  },
  {
   "cell_type": "markdown",
   "metadata": {},
   "source": [
    "BULDING MODEL"
   ]
  },
  {
   "cell_type": "code",
   "execution_count": 46,
   "metadata": {},
   "outputs": [],
   "source": [
    "from tensorflow.keras.layers import Dense,Conv2D,MaxPool2D,Flatten,Dropout\n",
    "from tensorflow.keras.models import Sequential"
   ]
  },
  {
   "cell_type": "code",
   "execution_count": 47,
   "metadata": {},
   "outputs": [],
   "source": [
    "model=Sequential()"
   ]
  },
  {
   "cell_type": "markdown",
   "metadata": {},
   "source": [
    "Building convolution layer"
   ]
  },
  {
   "cell_type": "code",
   "execution_count": 48,
   "metadata": {},
   "outputs": [],
   "source": [
    "model.add(Conv2D(filters=32, kernel_size=3, padding=\"same\", activation='relu', input_shape=(128, 128, 3)))\n",
    "model.add(Conv2D(filters=32,kernel_size=3,activation='relu'))\n",
    "model.add(MaxPool2D(pool_size=2,strides=2))"
   ]
  },
  {
   "cell_type": "code",
   "execution_count": 49,
   "metadata": {},
   "outputs": [],
   "source": [
    "\n",
    "model.add(Conv2D(filters=64,kernel_size=3,padding=\"same\",activation='relu'))\n",
    "model.add(Conv2D(filters=64,kernel_size=3,activation='relu'))\n",
    "model.add(MaxPool2D(pool_size=2,strides=2))"
   ]
  },
  {
   "cell_type": "code",
   "execution_count": 50,
   "metadata": {},
   "outputs": [],
   "source": [
    "model.add(Conv2D(filters=128,kernel_size=3,padding=\"same\",activation='relu'))\n",
    "model.add(Conv2D(filters=128,kernel_size=3,activation='relu'))\n",
    "model.add(MaxPool2D(pool_size=2,strides=2))"
   ]
  },
  {
   "cell_type": "code",
   "execution_count": 51,
   "metadata": {},
   "outputs": [],
   "source": [
    "model.add(Conv2D(filters=256,kernel_size=3,padding=\"same\",activation='relu'))\n",
    "model.add(Conv2D(filters=256,kernel_size=3,activation='relu'))\n",
    "model.add(MaxPool2D(pool_size=2,strides=2))"
   ]
  },
  {
   "cell_type": "code",
   "execution_count": null,
   "metadata": {},
   "outputs": [],
   "source": []
  },
  {
   "cell_type": "code",
   "execution_count": 52,
   "metadata": {},
   "outputs": [],
   "source": [
    "model.add(Dropout(0.25))"
   ]
  },
  {
   "cell_type": "code",
   "execution_count": 53,
   "metadata": {},
   "outputs": [],
   "source": [
    "model.add(Flatten())"
   ]
  },
  {
   "cell_type": "code",
   "execution_count": 54,
   "metadata": {},
   "outputs": [],
   "source": [
    "model.add(Dense(units=2000,activation=\"relu\"))"
   ]
  },
  {
   "cell_type": "code",
   "execution_count": 55,
   "metadata": {},
   "outputs": [],
   "source": [
    "model.add(Dropout(0.4))"
   ]
  },
  {
   "cell_type": "code",
   "execution_count": 56,
   "metadata": {},
   "outputs": [],
   "source": [
    "#output layer\n",
    "model.add(Dense(units=5,activation='softmax'))\n",
    "\n",
    "\n",
    "\n",
    "\n"
   ]
  },
  {
   "cell_type": "markdown",
   "metadata": {},
   "source": [
    "COMPILING MODEL\n"
   ]
  },
  {
   "cell_type": "code",
   "execution_count": 57,
   "metadata": {},
   "outputs": [],
   "source": [
    "model.compile(optimizer=tf.keras.optimizers.Adam(learning_rate=0.0001),loss='categorical_crossentropy',metrics=['accuracy'])\n",
    "\n",
    "\n"
   ]
  },
  {
   "cell_type": "code",
   "execution_count": 58,
   "metadata": {},
   "outputs": [
    {
     "name": "stdout",
     "output_type": "stream",
     "text": [
      "Model: \"sequential_1\"\n",
      "_________________________________________________________________\n",
      " Layer (type)                Output Shape              Param #   \n",
      "=================================================================\n",
      " conv2d_12 (Conv2D)          (None, 128, 128, 32)      896       \n",
      "                                                                 \n",
      " conv2d_13 (Conv2D)          (None, 126, 126, 32)      9248      \n",
      "                                                                 \n",
      " max_pooling2d_5 (MaxPooling  (None, 63, 63, 32)       0         \n",
      " 2D)                                                             \n",
      "                                                                 \n",
      " conv2d_14 (Conv2D)          (None, 63, 63, 64)        18496     \n",
      "                                                                 \n",
      " conv2d_15 (Conv2D)          (None, 61, 61, 64)        36928     \n",
      "                                                                 \n",
      " max_pooling2d_6 (MaxPooling  (None, 30, 30, 64)       0         \n",
      " 2D)                                                             \n",
      "                                                                 \n",
      " conv2d_16 (Conv2D)          (None, 30, 30, 128)       73856     \n",
      "                                                                 \n",
      " conv2d_17 (Conv2D)          (None, 28, 28, 128)       147584    \n",
      "                                                                 \n",
      " max_pooling2d_7 (MaxPooling  (None, 14, 14, 128)      0         \n",
      " 2D)                                                             \n",
      "                                                                 \n",
      " conv2d_18 (Conv2D)          (None, 14, 14, 256)       295168    \n",
      "                                                                 \n",
      " conv2d_19 (Conv2D)          (None, 12, 12, 256)       590080    \n",
      "                                                                 \n",
      " max_pooling2d_8 (MaxPooling  (None, 6, 6, 256)        0         \n",
      " 2D)                                                             \n",
      "                                                                 \n",
      " dropout_4 (Dropout)         (None, 6, 6, 256)         0         \n",
      "                                                                 \n",
      " flatten_1 (Flatten)         (None, 9216)              0         \n",
      "                                                                 \n",
      " dense_7 (Dense)             (None, 2000)              18434000  \n",
      "                                                                 \n",
      " dropout_5 (Dropout)         (None, 2000)              0         \n",
      "                                                                 \n",
      " dense_8 (Dense)             (None, 5)                 10005     \n",
      "                                                                 \n",
      "=================================================================\n",
      "Total params: 19,616,261\n",
      "Trainable params: 19,616,261\n",
      "Non-trainable params: 0\n",
      "_________________________________________________________________\n"
     ]
    }
   ],
   "source": [
    "model.summary()"
   ]
  },
  {
   "cell_type": "markdown",
   "metadata": {},
   "source": [
    "Model Training\n"
   ]
  },
  {
   "cell_type": "code",
   "execution_count": 59,
   "metadata": {},
   "outputs": [
    {
     "name": "stdout",
     "output_type": "stream",
     "text": [
      "Epoch 1/10\n",
      "121/121 [==============================] - 193s 2s/step - loss: 1.4909 - accuracy: 0.6067 - val_loss: 0.5914 - val_accuracy: 0.7928\n",
      "Epoch 2/10\n",
      "121/121 [==============================] - 188s 2s/step - loss: 0.5297 - accuracy: 0.8063 - val_loss: 0.3563 - val_accuracy: 0.8578\n",
      "Epoch 3/10\n",
      "121/121 [==============================] - 190s 2s/step - loss: 0.3722 - accuracy: 0.8612 - val_loss: 0.3682 - val_accuracy: 0.8651\n",
      "Epoch 4/10\n",
      "121/121 [==============================] - 188s 2s/step - loss: 0.2847 - accuracy: 0.8989 - val_loss: 0.2626 - val_accuracy: 0.9036\n",
      "Epoch 5/10\n",
      "121/121 [==============================] - 183s 2s/step - loss: 0.2420 - accuracy: 0.9145 - val_loss: 0.1160 - val_accuracy: 0.9649\n",
      "Epoch 6/10\n",
      "121/121 [==============================] - 185s 2s/step - loss: 0.1977 - accuracy: 0.9301 - val_loss: 0.1577 - val_accuracy: 0.9506\n",
      "Epoch 7/10\n",
      "121/121 [==============================] - 181s 1s/step - loss: 0.1627 - accuracy: 0.9410 - val_loss: 0.1281 - val_accuracy: 0.9602\n",
      "Epoch 8/10\n",
      "121/121 [==============================] - 180s 1s/step - loss: 0.1466 - accuracy: 0.9509 - val_loss: 0.0638 - val_accuracy: 0.9857\n",
      "Epoch 9/10\n",
      "121/121 [==============================] - 180s 1s/step - loss: 0.1232 - accuracy: 0.9579 - val_loss: 0.0436 - val_accuracy: 0.9865\n",
      "Epoch 10/10\n",
      "121/121 [==============================] - 180s 1s/step - loss: 0.0745 - accuracy: 0.9761 - val_loss: 0.0180 - val_accuracy: 0.9971\n"
     ]
    }
   ],
   "source": [
    "training_histroy=model.fit(x=training_set,validation_data=validation_set,epochs=10)"
   ]
  },
  {
   "cell_type": "markdown",
   "metadata": {},
   "source": []
  },
  {
   "cell_type": "markdown",
   "metadata": {},
   "source": []
  },
  {
   "cell_type": "markdown",
   "metadata": {},
   "source": []
  },
  {
   "cell_type": "markdown",
   "metadata": {},
   "source": [
    "Model evoluvation"
   ]
  },
  {
   "cell_type": "code",
   "execution_count": 60,
   "metadata": {},
   "outputs": [
    {
     "name": "stdout",
     "output_type": "stream",
     "text": [
      "121/121 [==============================] - 26s 211ms/step - loss: 0.0180 - accuracy: 0.9971\n"
     ]
    }
   ],
   "source": [
    "#evaluation of traning set\n",
    "train_loss,train_acc=model.evaluate(training_set)"
   ]
  },
  {
   "cell_type": "code",
   "execution_count": 61,
   "metadata": {},
   "outputs": [
    {
     "name": "stdout",
     "output_type": "stream",
     "text": [
      "121/121 [==============================] - 26s 212ms/step - loss: 0.0180 - accuracy: 0.9971\n"
     ]
    }
   ],
   "source": [
    "#evaluation of validation set\n",
    "val_loss,val_acc=model.evaluate(validation_set)"
   ]
  },
  {
   "cell_type": "markdown",
   "metadata": {},
   "source": [
    "Saving model "
   ]
  },
  {
   "cell_type": "markdown",
   "metadata": {},
   "source": []
  },
  {
   "cell_type": "code",
   "execution_count": 62,
   "metadata": {},
   "outputs": [],
   "source": [
    "model.save(\"Trained model.keras\")\n",
    "model.save(\"Trained model.h5\")"
   ]
  },
  {
   "cell_type": "code",
   "execution_count": 63,
   "metadata": {},
   "outputs": [
    {
     "data": {
      "text/plain": [
       "{'loss': [1.4908627271652222,\n",
       "  0.5296719670295715,\n",
       "  0.372233122587204,\n",
       "  0.2846980690956116,\n",
       "  0.24204027652740479,\n",
       "  0.1977035254240036,\n",
       "  0.16267633438110352,\n",
       "  0.14662475883960724,\n",
       "  0.12320556491613388,\n",
       "  0.07453684508800507],\n",
       " 'accuracy': [0.6067065000534058,\n",
       "  0.806342601776123,\n",
       "  0.8611905574798584,\n",
       "  0.898882269859314,\n",
       "  0.9144788384437561,\n",
       "  0.9300754070281982,\n",
       "  0.9409930109977722,\n",
       "  0.9508708119392395,\n",
       "  0.9578892588615417,\n",
       "  0.9760852456092834],\n",
       " 'val_loss': [0.5913558602333069,\n",
       "  0.3562512695789337,\n",
       "  0.3682049810886383,\n",
       "  0.2625599503517151,\n",
       "  0.11604318022727966,\n",
       "  0.1577177345752716,\n",
       "  0.12806305289268494,\n",
       "  0.06378664821386337,\n",
       "  0.04361647367477417,\n",
       "  0.017961297184228897],\n",
       " 'val_accuracy': [0.7928255796432495,\n",
       "  0.8578112721443176,\n",
       "  0.8650896549224854,\n",
       "  0.9035612344741821,\n",
       "  0.964907705783844,\n",
       "  0.950610876083374,\n",
       "  0.9602287411689758,\n",
       "  0.98570317029953,\n",
       "  0.9864829778671265,\n",
       "  0.997140645980835]}"
      ]
     },
     "execution_count": 63,
     "metadata": {},
     "output_type": "execute_result"
    }
   ],
   "source": [
    "training_histroy.history"
   ]
  },
  {
   "cell_type": "code",
   "execution_count": 64,
   "metadata": {},
   "outputs": [],
   "source": [
    "import json\n",
    "f=open(\"training.json\",'w')\n",
    "json.dump(training_histroy.history,f)"
   ]
  },
  {
   "cell_type": "markdown",
   "metadata": {},
   "source": [
    "Accuration validation"
   ]
  },
  {
   "cell_type": "code",
   "execution_count": 65,
   "metadata": {},
   "outputs": [
    {
     "data": {
      "image/png": "[encoded data removed]",
      "text/plain": [
       "<Figure size 640x480 with 1 Axes>"
      ]
     },
     "metadata": {},
     "output_type": "display_data"
    }
   ],
   "source": [
    "epochs=[i for i in range(1,11)]\n",
    "plt.plot(epochs,training_histroy.history['accuracy'],color='red',label='Training accuracy')\n",
    "plt.plot(epochs,training_histroy.history['val_accuracy'],color='blue',label='Validation accuracy')\n",
    "plt.xlabel(\"No of epoches\")\n",
    "plt.ylabel(\"accuracy results\")\n",
    "plt.title(\"Visualization of accuracy\")\n",
    "plt.legend()\n",
    "plt.show()"
   ]
  },
  {
   "cell_type": "code",
   "execution_count": 66,
   "metadata": {},
   "outputs": [
    {
     "data": {
      "text/plain": [
       "['Brown_Rust', 'Healthy', 'Loose_Smut', 'Septoria', 'Yellow_Rust']"
      ]
     },
     "execution_count": 66,
     "metadata": {},
     "output_type": "execute_result"
    }
   ],
   "source": [
    "class_name=validation_set.class_names\n",
    "class_name"
   ]
  },
  {
   "cell_type": "code",
   "execution_count": 69,
   "metadata": {},
   "outputs": [
    {
     "name": "stdout",
     "output_type": "stream",
     "text": [
      "Found 987 files belonging to 5 classes.\n"
     ]
    }
   ],
   "source": [
    "test_set=tf.keras.utils.image_dataset_from_directory(\n",
    "    'validation',\n",
    "    labels=\"inferred\",\n",
    "    label_mode=\"categorical\",\n",
    "    class_names=None,\n",
    "    color_mode=\"rgb\",\n",
    "    batch_size=32,\n",
    "    image_size=(128, 128),\n",
    "    shuffle=False,\n",
    "    seed=None,\n",
    "    validation_split=None,\n",
    "    subset=None,\n",
    "    interpolation=\"bilinear\",\n",
    "    follow_links=False,\n",
    "    crop_to_aspect_ratio=False\n",
    ")"
   ]
  },
  {
   "cell_type": "code",
   "execution_count": 70,
   "metadata": {},
   "outputs": [
    {
     "name": "stdout",
     "output_type": "stream",
     "text": [
      "31/31 [==============================] - 7s 214ms/step\n"
     ]
    },
    {
     "data": {
      "text/plain": [
       "(array([[9.9999321e-01, 4.8779032e-12, 6.8450290e-06, 3.3870740e-10,\n",
       "         7.8296375e-10],\n",
       "        [9.9992323e-01, 2.9497824e-11, 7.6773591e-05, 6.1649188e-09,\n",
       "         1.8219584e-08],\n",
       "        [9.9995255e-01, 1.5857291e-08, 4.6518697e-05, 2.9529036e-07,\n",
       "         6.5001717e-07],\n",
       "        ...,\n",
       "        [1.2934031e-01, 6.5967788e-06, 2.7461350e-03, 5.3078271e-05,\n",
       "         8.6785388e-01],\n",
       "        [7.0040971e-01, 7.0342436e-03, 1.1860509e-02, 1.8757936e-02,\n",
       "         2.6193762e-01],\n",
       "        [9.6511021e-06, 2.8991923e-05, 6.6156156e-07, 1.1202710e-06,\n",
       "         9.9995959e-01]], dtype=float32),\n",
       " (987, 5))"
      ]
     },
     "execution_count": 70,
     "metadata": {},
     "output_type": "execute_result"
    }
   ],
   "source": [
    "y_predit=model.predict(test_set)\n",
    "y_predit,y_predit.shape"
   ]
  },
  {
   "cell_type": "code",
   "execution_count": 71,
   "metadata": {},
   "outputs": [],
   "source": [
    "predicted_categories=tf.argmax(y_predit,axis=1)"
   ]
  },
  {
   "cell_type": "code",
   "execution_count": 72,
   "metadata": {},
   "outputs": [
    {
     "data": {
      "text/plain": [
       "<tf.Tensor: shape=(987,), dtype=int64, numpy=\n",
       "array([0, 0, 0, 0, 0, 0, 0, 0, 0, 0, 0, 0, 0, 0, 0, 0, 0, 0, 0, 0, 0, 0,\n",
       "       0, 0, 0, 0, 0, 0, 0, 0, 0, 0, 0, 0, 0, 0, 0, 0, 0, 0, 0, 0, 0, 0,\n",
       "       0, 0, 0, 0, 0, 0, 0, 0, 0, 0, 0, 0, 0, 0, 2, 0, 2, 0, 0, 0, 0, 0,\n",
       "       0, 0, 0, 0, 0, 0, 0, 0, 0, 0, 0, 0, 0, 0, 0, 0, 0, 0, 0, 0, 0, 0,\n",
       "       0, 0, 0, 0, 0, 0, 0, 0, 0, 0, 0, 0, 0, 0, 0, 0, 0, 0, 0, 0, 0, 0,\n",
       "       0, 0, 0, 0, 0, 0, 0, 0, 0, 0, 0, 0, 0, 0, 0, 0, 0, 0, 0, 0, 0, 0,\n",
       "       0, 0, 0, 0, 0, 0, 0, 0, 0, 0, 0, 0, 0, 0, 0, 0, 0, 0, 0, 0, 0, 0,\n",
       "       0, 0, 0, 0, 0, 0, 0, 0, 0, 0, 0, 0, 0, 0, 0, 0, 0, 0, 0, 0, 0, 0,\n",
       "       0, 0, 0, 0, 0, 0, 0, 0, 0, 0, 0, 0, 0, 0, 0, 0, 0, 0, 0, 0, 0, 0,\n",
       "       0, 0, 1, 1, 1, 1, 1, 1, 1, 1, 1, 1, 1, 1, 1, 1, 1, 1, 1, 1, 1, 1,\n",
       "       1, 1, 1, 1, 1, 3, 1, 1, 1, 1, 1, 3, 1, 1, 1, 1, 1, 1, 1, 1, 1, 1,\n",
       "       1, 1, 1, 1, 1, 1, 1, 1, 1, 1, 1, 1, 1, 1, 1, 2, 1, 3, 1, 1, 1, 1,\n",
       "       1, 1, 1, 1, 1, 1, 1, 1, 1, 1, 1, 1, 1, 1, 1, 4, 4, 1, 1, 1, 1, 1,\n",
       "       1, 1, 1, 1, 1, 1, 1, 1, 1, 1, 1, 1, 1, 1, 1, 1, 1, 1, 1, 1, 1, 1,\n",
       "       1, 1, 1, 4, 1, 1, 1, 1, 1, 1, 1, 1, 1, 1, 1, 1, 1, 1, 1, 1, 1, 1,\n",
       "       1, 1, 1, 1, 1, 1, 1, 1, 1, 1, 1, 1, 1, 1, 1, 1, 1, 1, 1, 1, 1, 1,\n",
       "       1, 1, 1, 1, 1, 1, 1, 3, 1, 1, 1, 1, 1, 1, 1, 1, 1, 1, 1, 1, 1, 1,\n",
       "       1, 1, 1, 1, 1, 1, 1, 1, 1, 1, 1, 1, 1, 1, 1, 1, 1, 1, 1, 1, 1, 1,\n",
       "       1, 1, 1, 1, 1, 1, 1, 1, 1, 1, 0, 1, 1, 1, 1, 1, 1, 1, 1, 1, 1, 3,\n",
       "       1, 2, 0, 1, 1, 1, 1, 1, 1, 0, 0, 1, 1, 1, 1, 1, 1, 1, 1, 1, 1, 1,\n",
       "       1, 1, 1, 0, 1, 1, 1, 1, 1, 1, 1, 1, 1, 1, 1, 3, 1, 3, 1, 1, 1, 1,\n",
       "       1, 1, 1, 1, 1, 1, 1, 1, 1, 1, 1, 1, 1, 0, 1, 1, 1, 4, 1, 1, 1, 1,\n",
       "       1, 1, 1, 1, 1, 1, 1, 1, 1, 1, 1, 1, 1, 1, 1, 1, 1, 1, 3, 1, 1, 1,\n",
       "       1, 1, 1, 1, 1, 1, 2, 2, 2, 2, 2, 2, 2, 2, 2, 2, 2, 2, 2, 2, 2, 2,\n",
       "       2, 2, 2, 2, 2, 2, 2, 2, 2, 2, 2, 2, 2, 2, 2, 2, 2, 2, 2, 2, 2, 1,\n",
       "       2, 2, 2, 2, 2, 2, 2, 2, 2, 2, 2, 2, 2, 2, 2, 2, 2, 2, 2, 2, 2, 2,\n",
       "       2, 2, 2, 2, 2, 2, 2, 2, 2, 2, 2, 2, 2, 2, 2, 2, 2, 2, 2, 2, 2, 2,\n",
       "       2, 2, 2, 2, 2, 2, 2, 2, 2, 2, 2, 2, 2, 2, 2, 2, 2, 2, 2, 2, 2, 2,\n",
       "       2, 2, 2, 2, 2, 2, 2, 2, 2, 2, 2, 2, 2, 2, 2, 2, 2, 2, 2, 2, 2, 2,\n",
       "       2, 2, 2, 2, 2, 2, 2, 2, 2, 2, 2, 2, 2, 2, 1, 3, 3, 3, 1, 1, 3, 1,\n",
       "       1, 3, 1, 3, 2, 3, 3, 1, 3, 1, 3, 1, 3, 3, 3, 1, 3, 1, 1, 3, 3, 1,\n",
       "       3, 1, 1, 3, 2, 1, 3, 1, 3, 3, 3, 3, 1, 3, 3, 1, 3, 3, 1, 1, 2, 3,\n",
       "       4, 1, 1, 1, 3, 3, 3, 3, 1, 1, 1, 3, 1, 3, 1, 3, 1, 1, 3, 4, 3, 3,\n",
       "       1, 3, 1, 3, 1, 4, 4, 4, 4, 4, 4, 4, 4, 4, 4, 4, 4, 4, 4, 4, 4, 4,\n",
       "       4, 4, 4, 4, 4, 4, 4, 4, 4, 4, 4, 4, 4, 4, 4, 4, 4, 4, 4, 4, 4, 0,\n",
       "       4, 4, 4, 4, 4, 4, 4, 4, 4, 4, 4, 4, 4, 4, 4, 4, 4, 4, 4, 4, 4, 4,\n",
       "       4, 4, 4, 4, 4, 4, 4, 4, 4, 4, 4, 4, 4, 4, 4, 4, 4, 4, 4, 0, 4, 4,\n",
       "       4, 4, 4, 4, 4, 4, 4, 4, 4, 4, 4, 4, 4, 4, 4, 4, 4, 4, 4, 4, 4, 4,\n",
       "       4, 4, 4, 0, 4, 4, 4, 4, 0, 4, 4, 4, 4, 4, 4, 4, 4, 4, 4, 4, 4, 0,\n",
       "       4, 4, 4, 4, 4, 0, 4, 4, 4, 4, 4, 4, 4, 4, 4, 4, 4, 4, 4, 4, 4, 4,\n",
       "       4, 4, 4, 0, 4, 4, 4, 4, 4, 4, 4, 4, 4, 4, 4, 4, 0, 4, 4, 4, 4, 4,\n",
       "       4, 4, 4, 4, 4, 4, 4, 4, 4, 4, 4, 4, 4, 4, 4, 4, 4, 0, 4, 4, 4, 4,\n",
       "       4, 4, 4, 4, 4, 2, 4, 4, 4, 0, 0, 4, 4, 4, 4, 4, 0, 4, 4, 4, 0, 4,\n",
       "       4, 4, 4, 4, 4, 4, 0, 4, 4, 4, 4, 4, 4, 4, 4, 0, 4, 4, 4, 4, 0, 4,\n",
       "       4, 4, 1, 4, 4, 4, 4, 0, 4, 4, 4, 4, 4, 4, 4, 4, 4, 0, 4],\n",
       "      dtype=int64)>"
      ]
     },
     "execution_count": 72,
     "metadata": {},
     "output_type": "execute_result"
    }
   ],
   "source": [
    "predicted_categories"
   ]
  },
  {
   "cell_type": "code",
   "execution_count": 73,
   "metadata": {},
   "outputs": [
    {
     "data": {
      "text/plain": [
       "<tf.Tensor: shape=(987, 5), dtype=float32, numpy=\n",
       "array([[1., 0., 0., 0., 0.],\n",
       "       [1., 0., 0., 0., 0.],\n",
       "       [1., 0., 0., 0., 0.],\n",
       "       ...,\n",
       "       [0., 0., 0., 0., 1.],\n",
       "       [0., 0., 0., 0., 1.],\n",
       "       [0., 0., 0., 0., 1.]], dtype=float32)>"
      ]
     },
     "execution_count": 73,
     "metadata": {},
     "output_type": "execute_result"
    }
   ],
   "source": [
    "true_categories=tf.concat([y for x,y in test_set],axis=0)\n",
    "true_categories\n",
    "\n"
   ]
  },
  {
   "cell_type": "code",
   "execution_count": 74,
   "metadata": {},
   "outputs": [
    {
     "data": {
      "text/plain": [
       "<tf.Tensor: shape=(987,), dtype=int64, numpy=\n",
       "array([0, 0, 0, 0, 0, 0, 0, 0, 0, 0, 0, 0, 0, 0, 0, 0, 0, 0, 0, 0, 0, 0,\n",
       "       0, 0, 0, 0, 0, 0, 0, 0, 0, 0, 0, 0, 0, 0, 0, 0, 0, 0, 0, 0, 0, 0,\n",
       "       0, 0, 0, 0, 0, 0, 0, 0, 0, 0, 0, 0, 0, 0, 0, 0, 0, 0, 0, 0, 0, 0,\n",
       "       0, 0, 0, 0, 0, 0, 0, 0, 0, 0, 0, 0, 0, 0, 0, 0, 0, 0, 0, 0, 0, 0,\n",
       "       0, 0, 0, 0, 0, 0, 0, 0, 0, 0, 0, 0, 0, 0, 0, 0, 0, 0, 0, 0, 0, 0,\n",
       "       0, 0, 0, 0, 0, 0, 0, 0, 0, 0, 0, 0, 0, 0, 0, 0, 0, 0, 0, 0, 0, 0,\n",
       "       0, 0, 0, 0, 0, 0, 0, 0, 0, 0, 0, 0, 0, 0, 0, 0, 0, 0, 0, 0, 0, 0,\n",
       "       0, 0, 0, 0, 0, 0, 0, 0, 0, 0, 0, 0, 0, 0, 0, 0, 0, 0, 0, 0, 0, 0,\n",
       "       0, 0, 0, 0, 0, 0, 0, 0, 0, 0, 0, 0, 0, 0, 0, 0, 0, 0, 0, 0, 0, 0,\n",
       "       0, 0, 1, 1, 1, 1, 1, 1, 1, 1, 1, 1, 1, 1, 1, 1, 1, 1, 1, 1, 1, 1,\n",
       "       1, 1, 1, 1, 1, 1, 1, 1, 1, 1, 1, 1, 1, 1, 1, 1, 1, 1, 1, 1, 1, 1,\n",
       "       1, 1, 1, 1, 1, 1, 1, 1, 1, 1, 1, 1, 1, 1, 1, 1, 1, 1, 1, 1, 1, 1,\n",
       "       1, 1, 1, 1, 1, 1, 1, 1, 1, 1, 1, 1, 1, 1, 1, 1, 1, 1, 1, 1, 1, 1,\n",
       "       1, 1, 1, 1, 1, 1, 1, 1, 1, 1, 1, 1, 1, 1, 1, 1, 1, 1, 1, 1, 1, 1,\n",
       "       1, 1, 1, 1, 1, 1, 1, 1, 1, 1, 1, 1, 1, 1, 1, 1, 1, 1, 1, 1, 1, 1,\n",
       "       1, 1, 1, 1, 1, 1, 1, 1, 1, 1, 1, 1, 1, 1, 1, 1, 1, 1, 1, 1, 1, 1,\n",
       "       1, 1, 1, 1, 1, 1, 1, 1, 1, 1, 1, 1, 1, 1, 1, 1, 1, 1, 1, 1, 1, 1,\n",
       "       1, 1, 1, 1, 1, 1, 1, 1, 1, 1, 1, 1, 1, 1, 1, 1, 1, 1, 1, 1, 1, 1,\n",
       "       1, 1, 1, 1, 1, 1, 1, 1, 1, 1, 1, 1, 1, 1, 1, 1, 1, 1, 1, 1, 1, 1,\n",
       "       1, 1, 1, 1, 1, 1, 1, 1, 1, 1, 1, 1, 1, 1, 1, 1, 1, 1, 1, 1, 1, 1,\n",
       "       1, 1, 1, 1, 1, 1, 1, 1, 1, 1, 1, 1, 1, 1, 1, 1, 1, 1, 1, 1, 1, 1,\n",
       "       1, 1, 1, 1, 1, 1, 1, 1, 1, 1, 1, 1, 1, 1, 1, 1, 1, 1, 1, 1, 1, 1,\n",
       "       1, 1, 1, 1, 1, 1, 1, 1, 1, 1, 1, 1, 1, 1, 1, 1, 1, 1, 1, 1, 1, 1,\n",
       "       1, 1, 1, 1, 1, 1, 2, 2, 2, 2, 2, 2, 2, 2, 2, 2, 2, 2, 2, 2, 2, 2,\n",
       "       2, 2, 2, 2, 2, 2, 2, 2, 2, 2, 2, 2, 2, 2, 2, 2, 2, 2, 2, 2, 2, 2,\n",
       "       2, 2, 2, 2, 2, 2, 2, 2, 2, 2, 2, 2, 2, 2, 2, 2, 2, 2, 2, 2, 2, 2,\n",
       "       2, 2, 2, 2, 2, 2, 2, 2, 2, 2, 2, 2, 2, 2, 2, 2, 2, 2, 2, 2, 2, 2,\n",
       "       2, 2, 2, 2, 2, 2, 2, 2, 2, 2, 2, 2, 2, 2, 2, 2, 2, 2, 2, 2, 2, 2,\n",
       "       2, 2, 2, 2, 2, 2, 2, 2, 2, 2, 2, 2, 2, 2, 2, 2, 2, 2, 2, 2, 2, 2,\n",
       "       2, 2, 2, 2, 2, 2, 2, 2, 2, 2, 2, 2, 2, 2, 3, 3, 3, 3, 3, 3, 3, 3,\n",
       "       3, 3, 3, 3, 3, 3, 3, 3, 3, 3, 3, 3, 3, 3, 3, 3, 3, 3, 3, 3, 3, 3,\n",
       "       3, 3, 3, 3, 3, 4, 4, 4, 4, 4, 4, 4, 4, 4, 4, 4, 4, 4, 4, 4, 4, 4,\n",
       "       4, 4, 4, 4, 4, 4, 4, 4, 4, 4, 4, 4, 4, 4, 4, 4, 4, 4, 4, 4, 4, 4,\n",
       "       4, 4, 4, 4, 4, 4, 4, 4, 4, 4, 4, 4, 4, 4, 4, 4, 4, 4, 4, 4, 4, 4,\n",
       "       4, 4, 4, 4, 4, 4, 4, 4, 4, 4, 4, 4, 4, 4, 4, 4, 4, 4, 4, 4, 4, 4,\n",
       "       4, 4, 4, 4, 4, 4, 4, 4, 4, 4, 4, 4, 4, 4, 4, 4, 4, 4, 4, 4, 4, 4,\n",
       "       4, 4, 4, 4, 4, 4, 4, 4, 4, 4, 4, 4, 4, 4, 4, 4, 4, 4, 4, 4, 4, 4,\n",
       "       4, 4, 4, 4, 4, 4, 4, 4, 4, 4, 4, 4, 4, 4, 4, 4, 4, 4, 4, 4, 4, 4,\n",
       "       4, 4, 4, 4, 4, 4, 4, 4, 4, 4, 4, 4, 4, 4, 4, 4, 4, 4, 4, 4, 4, 4,\n",
       "       4, 4, 4, 4, 4, 4, 4, 4, 4, 4, 4, 4, 4, 4, 4, 4, 4, 4, 4, 4, 4, 4,\n",
       "       4, 4, 4, 4, 4, 4, 4, 4, 4, 4, 4, 4, 4, 4, 4, 4, 4, 4, 4, 4, 4, 4,\n",
       "       4, 4, 4, 4, 4, 4, 4, 4, 4, 4, 4, 4, 4, 4, 4, 4, 4, 4, 4, 4, 4, 4,\n",
       "       4, 4, 4, 4, 4, 4, 4, 4, 4, 4, 4, 4, 4, 4, 4, 4, 4, 4, 4, 4, 4, 4,\n",
       "       4, 4, 4, 4, 4, 4, 4, 4, 4, 4, 4, 4, 4, 4, 4, 4, 4, 4, 4, 4, 4, 4,\n",
       "       4, 4, 4, 4, 4, 4, 4, 4, 4, 4, 4, 4, 4, 4, 4, 4, 4, 4, 4],\n",
       "      dtype=int64)>"
      ]
     },
     "execution_count": 74,
     "metadata": {},
     "output_type": "execute_result"
    }
   ],
   "source": [
    "Y_True=tf.argmax(true_categories,axis=1)\n",
    "Y_True"
   ]
  },
  {
   "cell_type": "code",
   "execution_count": 75,
   "metadata": {},
   "outputs": [
    {
     "name": "stdout",
     "output_type": "stream",
     "text": [
      "              precision    recall  f1-score   support\n",
      "\n",
      "  Brown_Rust       0.89      0.99      0.94       200\n",
      "     Healthy       0.89      0.94      0.91       312\n",
      "  Loose_Smut       0.95      0.99      0.97       140\n",
      "    Septoria       0.38      0.51      0.43        35\n",
      " Yellow_Rust       0.98      0.79      0.88       300\n",
      "\n",
      "    accuracy                           0.90       987\n",
      "   macro avg       0.82      0.85      0.83       987\n",
      "weighted avg       0.91      0.90      0.90       987\n",
      "\n"
     ]
    }
   ],
   "source": [
    "from sklearn.metrics import classification_report,confusion_matrix\n",
    "print(classification_report(Y_True,predicted_categories,target_names=class_name))"
   ]
  },
  {
   "cell_type": "code",
   "execution_count": 76,
   "metadata": {},
   "outputs": [
    {
     "data": {
      "text/plain": [
       "(5, 5)"
      ]
     },
     "execution_count": 76,
     "metadata": {},
     "output_type": "execute_result"
    }
   ],
   "source": [
    "cm=confusion_matrix(Y_True,predicted_categories )\n",
    "cm.shape "
   ]
  },
  {
   "cell_type": "markdown",
   "metadata": {},
   "source": [
    "confusion Matrix Viasualization"
   ]
  },
  {
   "cell_type": "code",
   "execution_count": 77,
   "metadata": {},
   "outputs": [
    {
     "data": {
      "image/png": "[encoded data removed]",
      "text/plain": [
       "<Figure size 1000x1000 with 2 Axes>"
      ]
     },
     "metadata": {},
     "output_type": "display_data"
    },
    {
     "ename": "",
     "evalue": "",
     "output_type": "error",
     "traceback": [
      "\u001b[1;31mThe Kernel crashed while executing code in the current cell or a previous cell. \n",
      "\u001b[1;31mPlease review the code in the cell(s) to identify a possible cause of the failure. \n",
      "\u001b[1;31mClick <a href='https://aka.ms/vscodeJupyterKernelCrash'>here</a> for more info. \n",
      "\u001b[1;31mView Jupyter <a href='command:jupyter.viewOutput'>log</a> for further details."
     ]
    }
   ],
   "source": [
    "plt.figure(figsize=(10,10))\n",
    "sb.heatmap(cm,annot=True)\n",
    "plt.xlabel(\"Predicted Class\")\n",
    "plt.ylabel(\"Actual Class\")\n",
    "plt.show()"
   ]
  },
  {
   "cell_type": "code",
   "execution_count": null,
   "metadata": {},
   "outputs": [],
   "source": []
  }
 ],
 "metadata": {
  "kernelspec": {
   "display_name": "Python 3",
   "language": "python",
   "name": "python3"
  },
  "language_info": {
   "codemirror_mode": {
    "name": "ipython",
    "version": 3
   },
   "file_extension": ".py",
   "mimetype": "text/x-python",
   "name": "python",
   "nbconvert_exporter": "python",
   "pygments_lexer": "ipython3",
   "version": "3.8.19"
  }
 },
 "nbformat": 4,
 "nbformat_minor": 2
}
